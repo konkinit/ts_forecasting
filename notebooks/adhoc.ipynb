{
 "cells": [
  {
   "cell_type": "code",
   "execution_count": 1,
   "metadata": {},
   "outputs": [
    {
     "name": "stderr",
     "output_type": "stream",
     "text": [
      "/opt/mamba/lib/python3.10/site-packages/gluonts/json.py:101: UserWarning: Using `json`-module for json-handling. Consider installing one of `orjson`, `ujson` to speed up serialization and deserialization.\n",
      "  warnings.warn(\n"
     ]
    }
   ],
   "source": [
    "import os\n",
    "import numpy as np\n",
    "from datetime import datetime\n",
    "os.chdir(\"../\")\n",
    "from datasets import load_dataset, Dataset, DatasetDict\n",
    "from src.data import DataProcessing, HF_Dataset\n",
    "from src.utils import get_split_limit"
   ]
  },
  {
   "cell_type": "code",
   "execution_count": 2,
   "metadata": {},
   "outputs": [
    {
     "name": "stderr",
     "output_type": "stream",
     "text": [
      "Found cached dataset monash_tsf (/home/onyxia/.cache/huggingface/datasets/monash_tsf/traffic_hourly/1.0.0/82998723d55d6edbc664cfaebe371004d849846ee5f61b57f1f974000d44c050)\n"
     ]
    },
    {
     "data": {
      "application/vnd.jupyter.widget-view+json": {
       "model_id": "f7c11994d7db40d195a1bd7c1112f2ce",
       "version_major": 2,
       "version_minor": 0
      },
      "text/plain": [
       "  0%|          | 0/3 [00:00<?, ?it/s]"
      ]
     },
     "metadata": {},
     "output_type": "display_data"
    }
   ],
   "source": [
    "dataset = load_dataset(\"monash_tsf\", \"traffic_hourly\")\n",
    "freq = \"1H\""
   ]
  },
  {
   "cell_type": "code",
   "execution_count": 3,
   "metadata": {},
   "outputs": [],
   "source": [
    "data_pipeline = DataProcessing(dataset)\n",
    "# mtrain, mtest = data_pipeline.multi_variate_format(freq)"
   ]
  },
  {
   "cell_type": "code",
   "execution_count": 4,
   "metadata": {},
   "outputs": [
    {
     "data": {
      "text/plain": [
       "array([21, 26, 30])"
      ]
     },
     "execution_count": 4,
     "metadata": {},
     "output_type": "execute_result"
    }
   ],
   "source": [
    "get_split_limit(10*[1., 2., 3.], np.array([0.7, 0.2, 0.1]))"
   ]
  },
  {
   "cell_type": "code",
   "execution_count": 5,
   "metadata": {},
   "outputs": [],
   "source": [
    "ds = HF_Dataset(\n",
    "    [datetime(2023, 4, 12, 12, 0, 0), datetime(2023, 4, 12, 12, 0, 0)], \n",
    "    [10*[1, 2, 3], 10*[4, 5, 6]],\n",
    "    np.array([0.7, 0.2, 0.1]),\n",
    "    [10*[0, 0, 0], 10*[0, 0, 0]],\n",
    "    [10*[None, None, None], 10*[None, None, None]]).getDatasetDict()\n",
    "\n",
    "ds = HF_Dataset(\n",
    "    [datetime(2023, 4, 12, 12, 0, 0)], \n",
    "    [10*[1, 2, 3]],\n",
    "    np.array([0.7, 0.2, 0.1]),\n",
    "    [10*[0, 0, 0]],\n",
    "    [10*[None, None, None]]).getDatasetDict()"
   ]
  },
  {
   "cell_type": "code",
   "execution_count": 6,
   "metadata": {},
   "outputs": [
    {
     "data": {
      "text/plain": [
       "([{'target': array([[1., 2., 3., 1., 2., 3., 1., 2., 3., 1., 2., 3., 1., 2., 3., 1.,\n",
       "           2., 3., 1., 2., 3.]], dtype=float32),\n",
       "   'feat_dynamic_real': array([[nan, nan, nan, nan, nan, nan, nan, nan, nan, nan, nan, nan, nan,\n",
       "           nan, nan, nan, nan, nan, nan, nan, nan]], dtype=float32),\n",
       "   'start': Period('2023-04-12 12:00', 'H'),\n",
       "   'feat_static_cat': array([0], dtype=int32)}],\n",
       " [{'target': array([[1., 2., 3., 1., 2., 3., 1., 2., 3., 1., 2., 3., 1., 2., 3., 1.,\n",
       "           2., 3., 1., 2., 3., 1., 2., 3., 1., 2., 3., 1., 2., 3.]],\n",
       "         dtype=float32),\n",
       "   'feat_dynamic_real': array([[nan, nan, nan, nan, nan, nan, nan, nan, nan, nan, nan, nan, nan,\n",
       "           nan, nan, nan, nan, nan, nan, nan, nan, nan, nan, nan, nan, nan,\n",
       "           nan, nan, nan, nan]], dtype=float32),\n",
       "   'start': Period('2023-04-12 12:00', 'H'),\n",
       "   'feat_static_cat': array([0], dtype=int32)}])"
      ]
     },
     "execution_count": 6,
     "metadata": {},
     "output_type": "execute_result"
    }
   ],
   "source": [
    "data_pipeline = DataProcessing(ds)\n",
    "data_pipeline.multi_variate_format(freq)"
   ]
  },
  {
   "cell_type": "code",
   "execution_count": null,
   "metadata": {},
   "outputs": [],
   "source": []
  }
 ],
 "metadata": {
  "kernelspec": {
   "display_name": "base",
   "language": "python",
   "name": "python3"
  },
  "language_info": {
   "codemirror_mode": {
    "name": "ipython",
    "version": 3
   },
   "file_extension": ".py",
   "mimetype": "text/x-python",
   "name": "python",
   "nbconvert_exporter": "python",
   "pygments_lexer": "ipython3",
   "version": "3.10.9"
  },
  "orig_nbformat": 4,
  "vscode": {
   "interpreter": {
    "hash": "3fa046f995eb80ac40c0869a1f9df46519f4ada8b8c395ef25dd1aa1a1a2fc63"
   }
  }
 },
 "nbformat": 4,
 "nbformat_minor": 2
}
