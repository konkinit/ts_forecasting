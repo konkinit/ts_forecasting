{
 "cells": [
  {
   "cell_type": "code",
   "execution_count": 2,
   "metadata": {},
   "outputs": [],
   "source": [
    "import os\n",
    "import numpy as np\n",
    "import pandas as pd\n",
    "from datetime import datetime\n",
    "os.chdir(\"../\")\n",
    "from datasets import load_dataset, Dataset, DatasetDict\n",
    "from src.data import HF_Dataset\n",
    "from src.conf import HF_Dataset_Params\n",
    "from src.utils import get_split_limit"
   ]
  },
  {
   "cell_type": "code",
   "execution_count": 3,
   "metadata": {},
   "outputs": [
    {
     "data": {
      "application/vnd.jupyter.widget-view+json": {
       "model_id": "e3e8b1a0ae30459e9b41b0f62aa23fe4",
       "version_major": 2,
       "version_minor": 0
      },
      "text/plain": [
       "Downloading builder script:   0%|          | 0.00/24.9k [00:00<?, ?B/s]"
      ]
     },
     "metadata": {},
     "output_type": "display_data"
    },
    {
     "data": {
      "application/vnd.jupyter.widget-view+json": {
       "model_id": "7f028e8f5a2c4521bc646329cd45f4fb",
       "version_major": 2,
       "version_minor": 0
      },
      "text/plain": [
       "Downloading metadata:   0%|          | 0.00/68.1k [00:00<?, ?B/s]"
      ]
     },
     "metadata": {},
     "output_type": "display_data"
    },
    {
     "data": {
      "application/vnd.jupyter.widget-view+json": {
       "model_id": "1db68a2207f748d6adf74f264b550430",
       "version_major": 2,
       "version_minor": 0
      },
      "text/plain": [
       "Downloading readme:   0%|          | 0.00/31.2k [00:00<?, ?B/s]"
      ]
     },
     "metadata": {},
     "output_type": "display_data"
    },
    {
     "data": {
      "application/vnd.jupyter.widget-view+json": {
       "model_id": "afd833b3479a4d4ebaa671a47a5680f9",
       "version_major": 2,
       "version_minor": 0
      },
      "text/plain": [
       "Downloading extra modules:   0%|          | 0.00/7.54k [00:00<?, ?B/s]"
      ]
     },
     "metadata": {},
     "output_type": "display_data"
    },
    {
     "name": "stdout",
     "output_type": "stream",
     "text": [
      "Downloading and preparing dataset monash_tsf/tourism_monthly to /home/onyxia/.cache/huggingface/datasets/monash_tsf/tourism_monthly/1.0.0/82998723d55d6edbc664cfaebe371004d849846ee5f61b57f1f974000d44c050...\n"
     ]
    },
    {
     "data": {
      "application/vnd.jupyter.widget-view+json": {
       "model_id": "9ff0552829724c96a918cea8c5b07dc1",
       "version_major": 2,
       "version_minor": 0
      },
      "text/plain": [
       "Downloading data:   0%|          | 0.00/200k [00:00<?, ?B/s]"
      ]
     },
     "metadata": {},
     "output_type": "display_data"
    },
    {
     "data": {
      "application/vnd.jupyter.widget-view+json": {
       "model_id": "e4076d61a97b41e4b7d1aa34be7c778d",
       "version_major": 2,
       "version_minor": 0
      },
      "text/plain": [
       "Generating train split:   0%|          | 0/366 [00:00<?, ? examples/s]"
      ]
     },
     "metadata": {},
     "output_type": "display_data"
    },
    {
     "data": {
      "application/vnd.jupyter.widget-view+json": {
       "model_id": "202c868b842b43cfb54acc685c675a9c",
       "version_major": 2,
       "version_minor": 0
      },
      "text/plain": [
       "Generating test split:   0%|          | 0/366 [00:00<?, ? examples/s]"
      ]
     },
     "metadata": {},
     "output_type": "display_data"
    },
    {
     "data": {
      "application/vnd.jupyter.widget-view+json": {
       "model_id": "ac893a2536ed48bb9f9ea38229759482",
       "version_major": 2,
       "version_minor": 0
      },
      "text/plain": [
       "Generating validation split:   0%|          | 0/366 [00:00<?, ? examples/s]"
      ]
     },
     "metadata": {},
     "output_type": "display_data"
    },
    {
     "name": "stdout",
     "output_type": "stream",
     "text": [
      "Dataset monash_tsf downloaded and prepared to /home/onyxia/.cache/huggingface/datasets/monash_tsf/tourism_monthly/1.0.0/82998723d55d6edbc664cfaebe371004d849846ee5f61b57f1f974000d44c050. Subsequent calls will reuse this data.\n"
     ]
    },
    {
     "data": {
      "application/vnd.jupyter.widget-view+json": {
       "model_id": "f450deb541a344ee829353dcc47bd94c",
       "version_major": 2,
       "version_minor": 0
      },
      "text/plain": [
       "  0%|          | 0/3 [00:00<?, ?it/s]"
      ]
     },
     "metadata": {},
     "output_type": "display_data"
    }
   ],
   "source": [
    "dataset = load_dataset(\"monash_tsf\", \"tourism_monthly\")\n",
    "freq = \"1H\"\n",
    "prediction_length = 48"
   ]
  },
  {
   "cell_type": "code",
   "execution_count": 4,
   "metadata": {},
   "outputs": [
    {
     "data": {
      "text/plain": [
       "Dataset({\n",
       "    features: ['start', 'target', 'feat_static_cat', 'feat_dynamic_real', 'item_id'],\n",
       "    num_rows: 366\n",
       "})"
      ]
     },
     "execution_count": 4,
     "metadata": {},
     "output_type": "execute_result"
    }
   ],
   "source": [
    "dataset[\"train\"]"
   ]
  },
  {
   "cell_type": "code",
   "execution_count": 10,
   "metadata": {},
   "outputs": [],
   "source": [
    "params = HF_Dataset_Params(\n",
    "    [datetime(2023, 4, 12, 12, 0, 0), datetime(2023, 4, 12, 12, 0, 0)], \n",
    "    [[i for i in range(100)], [-i for i in range(100)]],\n",
    "    [[], []],\n",
    "    [[], []],\n",
    "    np.array([0.7, 0.2, 0.1]),\n",
    "    \"1H\"\n",
    ")\n",
    "ds_obj = HF_Dataset(params)"
   ]
  },
  {
   "cell_type": "code",
   "execution_count": 14,
   "metadata": {},
   "outputs": [
    {
     "data": {
      "text/plain": [
       "2"
      ]
     },
     "execution_count": 14,
     "metadata": {},
     "output_type": "execute_result"
    }
   ],
   "source": [
    "ds_obj.get_num_of_variates()"
   ]
  },
  {
   "cell_type": "code",
   "execution_count": 11,
   "metadata": {},
   "outputs": [],
   "source": [
    "multi_variate_train_example, multi_variate_test_example = ds_obj.multi_variate_datasets()"
   ]
  },
  {
   "cell_type": "code",
   "execution_count": 12,
   "metadata": {},
   "outputs": [
    {
     "data": {
      "text/plain": [
       "{'target': array([[  0.,   1.,   2.,   3.,   4.,   5.,   6.,   7.,   8.,   9.,  10.,\n",
       "          11.,  12.,  13.,  14.,  15.,  16.,  17.,  18.,  19.,  20.,  21.,\n",
       "          22.,  23.,  24.,  25.,  26.,  27.,  28.,  29.,  30.,  31.,  32.,\n",
       "          33.,  34.,  35.,  36.,  37.,  38.,  39.,  40.,  41.,  42.,  43.,\n",
       "          44.,  45.,  46.,  47.,  48.,  49.,  50.,  51.,  52.,  53.,  54.,\n",
       "          55.,  56.,  57.,  58.,  59.,  60.,  61.,  62.,  63.,  64.,  65.,\n",
       "          66.,  67.,  68.,  69.],\n",
       "        [  0.,  -1.,  -2.,  -3.,  -4.,  -5.,  -6.,  -7.,  -8.,  -9., -10.,\n",
       "         -11., -12., -13., -14., -15., -16., -17., -18., -19., -20., -21.,\n",
       "         -22., -23., -24., -25., -26., -27., -28., -29., -30., -31., -32.,\n",
       "         -33., -34., -35., -36., -37., -38., -39., -40., -41., -42., -43.,\n",
       "         -44., -45., -46., -47., -48., -49., -50., -51., -52., -53., -54.,\n",
       "         -55., -56., -57., -58., -59., -60., -61., -62., -63., -64., -65.,\n",
       "         -66., -67., -68., -69.]], dtype=float32),\n",
       " 'feat_dynamic_real': array([], shape=(2, 0), dtype=float32),\n",
       " 'start': Period('2023-04-12 12:00', 'H'),\n",
       " 'feat_static_cat': array([0], dtype=int32)}"
      ]
     },
     "execution_count": 12,
     "metadata": {},
     "output_type": "execute_result"
    }
   ],
   "source": [
    "multi_variate_train_example"
   ]
  },
  {
   "cell_type": "code",
   "execution_count": 13,
   "metadata": {},
   "outputs": [
    {
     "data": {
      "text/plain": [
       "{'target': array([[  0.,   1.,   2.,   3.,   4.,   5.,   6.,   7.,   8.,   9.,  10.,\n",
       "          11.,  12.,  13.,  14.,  15.,  16.,  17.,  18.,  19.,  20.,  21.,\n",
       "          22.,  23.,  24.,  25.,  26.,  27.,  28.,  29.,  30.,  31.,  32.,\n",
       "          33.,  34.,  35.,  36.,  37.,  38.,  39.,  40.,  41.,  42.,  43.,\n",
       "          44.,  45.,  46.,  47.,  48.,  49.,  50.,  51.,  52.,  53.,  54.,\n",
       "          55.,  56.,  57.,  58.,  59.,  60.,  61.,  62.,  63.,  64.,  65.,\n",
       "          66.,  67.,  68.,  69.,  70.,  71.,  72.,  73.,  74.,  75.,  76.,\n",
       "          77.,  78.,  79.,  80.,  81.,  82.,  83.,  84.,  85.,  86.,  87.,\n",
       "          88.,  89.,  90.,  91.,  92.,  93.,  94.,  95.,  96.,  97.,  98.,\n",
       "          99.],\n",
       "        [  0.,  -1.,  -2.,  -3.,  -4.,  -5.,  -6.,  -7.,  -8.,  -9., -10.,\n",
       "         -11., -12., -13., -14., -15., -16., -17., -18., -19., -20., -21.,\n",
       "         -22., -23., -24., -25., -26., -27., -28., -29., -30., -31., -32.,\n",
       "         -33., -34., -35., -36., -37., -38., -39., -40., -41., -42., -43.,\n",
       "         -44., -45., -46., -47., -48., -49., -50., -51., -52., -53., -54.,\n",
       "         -55., -56., -57., -58., -59., -60., -61., -62., -63., -64., -65.,\n",
       "         -66., -67., -68., -69., -70., -71., -72., -73., -74., -75., -76.,\n",
       "         -77., -78., -79., -80., -81., -82., -83., -84., -85., -86., -87.,\n",
       "         -88., -89., -90., -91., -92., -93., -94., -95., -96., -97., -98.,\n",
       "         -99.]], dtype=float32),\n",
       " 'feat_dynamic_real': array([], shape=(2, 0), dtype=float32),\n",
       " 'start': Period('2023-04-12 12:00', 'H'),\n",
       " 'feat_static_cat': array([0], dtype=int32)}"
      ]
     },
     "execution_count": 13,
     "metadata": {},
     "output_type": "execute_result"
    }
   ],
   "source": [
    "multi_variate_test_example"
   ]
  },
  {
   "cell_type": "code",
   "execution_count": 9,
   "metadata": {},
   "outputs": [
    {
     "ename": "NameError",
     "evalue": "name 'num_of_variates' is not defined",
     "output_type": "error",
     "traceback": [
      "\u001b[0;31m---------------------------------------------------------------------------\u001b[0m",
      "\u001b[0;31mNameError\u001b[0m                                 Traceback (most recent call last)",
      "Cell \u001b[0;32mIn[9], line 5\u001b[0m\n\u001b[1;32m      1\u001b[0m \u001b[39mfrom\u001b[39;00m \u001b[39mtransformers\u001b[39;00m \u001b[39mimport\u001b[39;00m InformerConfig, InformerForPrediction\n\u001b[1;32m      3\u001b[0m config \u001b[39m=\u001b[39m InformerConfig(\n\u001b[1;32m      4\u001b[0m     \u001b[39m# in the multivariate setting, input_size is the number of variates in the time series per time step\u001b[39;00m\n\u001b[0;32m----> 5\u001b[0m     input_size\u001b[39m=\u001b[39mnum_of_variates,\n\u001b[1;32m      6\u001b[0m     \u001b[39m# prediction length:\u001b[39;00m\n\u001b[1;32m      7\u001b[0m     prediction_length\u001b[39m=\u001b[39mprediction_length,\n\u001b[1;32m      8\u001b[0m     \u001b[39m# context length:\u001b[39;00m\n\u001b[1;32m      9\u001b[0m     context_length\u001b[39m=\u001b[39mprediction_length \u001b[39m*\u001b[39m \u001b[39m2\u001b[39m,\n\u001b[1;32m     10\u001b[0m     \u001b[39m# lags value copied from 1 week before:\u001b[39;00m\n\u001b[1;32m     11\u001b[0m     lags_sequence\u001b[39m=\u001b[39m[\u001b[39m1\u001b[39m, \u001b[39m24\u001b[39m \u001b[39m*\u001b[39m \u001b[39m7\u001b[39m],\n\u001b[1;32m     12\u001b[0m     \u001b[39m# we'll add 5 time features (\"hour_of_day\", ..., and \"age\"):\u001b[39;00m\n\u001b[1;32m     13\u001b[0m     num_time_features\u001b[39m=\u001b[39m\u001b[39mlen\u001b[39m(time_features) \u001b[39m+\u001b[39m \u001b[39m1\u001b[39m,\n\u001b[1;32m     14\u001b[0m     \u001b[39m# informer params:\u001b[39;00m\n\u001b[1;32m     15\u001b[0m     dropout\u001b[39m=\u001b[39m\u001b[39m0.1\u001b[39m,\n\u001b[1;32m     16\u001b[0m     encoder_layers\u001b[39m=\u001b[39m\u001b[39m6\u001b[39m,\n\u001b[1;32m     17\u001b[0m     decoder_layers\u001b[39m=\u001b[39m\u001b[39m4\u001b[39m,\n\u001b[1;32m     18\u001b[0m     \u001b[39m# project input from num_of_variates*len(lags_sequence)+num_time_features to:\u001b[39;00m\n\u001b[1;32m     19\u001b[0m     d_model\u001b[39m=\u001b[39m\u001b[39m64\u001b[39m,\n\u001b[1;32m     20\u001b[0m )\n\u001b[1;32m     22\u001b[0m model \u001b[39m=\u001b[39m InformerForPrediction(config)\n",
      "\u001b[0;31mNameError\u001b[0m: name 'num_of_variates' is not defined"
     ]
    }
   ],
   "source": [
    "from transformers import InformerConfig, InformerForPrediction\n",
    "\n",
    "config = InformerConfig(\n",
    "    # in the multivariate setting, input_size is the number of variates in the time series per time step\n",
    "    input_size=num_of_variates,\n",
    "    # prediction length:\n",
    "    prediction_length=prediction_length,\n",
    "    # context length:\n",
    "    context_length=prediction_length * 2,\n",
    "    # lags value copied from 1 week before:\n",
    "    lags_sequence=[1, 24 * 7],\n",
    "    # we'll add 5 time features (\"hour_of_day\", ..., and \"age\"):\n",
    "    num_time_features=len(time_features) + 1,\n",
    "    # informer params:\n",
    "    dropout=0.1,\n",
    "    encoder_layers=6,\n",
    "    decoder_layers=4,\n",
    "    # project input from num_of_variates*len(lags_sequence)+num_time_features to:\n",
    "    d_model=64,\n",
    ")\n",
    "\n",
    "model = InformerForPrediction(config)"
   ]
  }
 ],
 "metadata": {
  "kernelspec": {
   "display_name": "base",
   "language": "python",
   "name": "python3"
  },
  "language_info": {
   "codemirror_mode": {
    "name": "ipython",
    "version": 3
   },
   "file_extension": ".py",
   "mimetype": "text/x-python",
   "name": "python",
   "nbconvert_exporter": "python",
   "pygments_lexer": "ipython3",
   "version": "3.10.9"
  },
  "orig_nbformat": 4,
  "vscode": {
   "interpreter": {
    "hash": "3fa046f995eb80ac40c0869a1f9df46519f4ada8b8c395ef25dd1aa1a1a2fc63"
   }
  }
 },
 "nbformat": 4,
 "nbformat_minor": 2
}
