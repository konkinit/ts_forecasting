{
 "cells": [
  {
   "cell_type": "code",
   "execution_count": 1,
   "metadata": {},
   "outputs": [],
   "source": [
    "import os\n",
    "from datasets import load_dataset, Dataset, DatasetDict\n",
    "import numpy as np\n",
    "import pandas as pd\n",
    "from datetime import datetime\n",
    "from transformers import (\n",
    "    TimeSeriesTransformerConfig, TimeSeriesTransformerForPrediction,\n",
    "    InformerConfig, InformerForPrediction\n",
    ")\n",
    "\n",
    "os.chdir(\"../\")\n",
    "\n",
    "from src.data import HF_Dataset\n",
    "from src.conf import HF_Dataset_Params, TS_Transformer_Params\n",
    "from src.utils import get_split_limit, transform_start_field\n",
    "from src.models import TS_Transformer"
   ]
  },
  {
   "cell_type": "code",
   "execution_count": 2,
   "metadata": {},
   "outputs": [],
   "source": [
    "freq = \"1D\"\n",
    "\n",
    "prediction_length = 12"
   ]
  },
  {
   "cell_type": "code",
   "execution_count": 3,
   "metadata": {},
   "outputs": [],
   "source": [
    "params = HF_Dataset_Params(\n",
    "    # from DB\n",
    "    [datetime(2023, 4, 12, 12, 0, 0), datetime(2023, 4, 12, 12, 0, 0)], \n",
    "    [[i for i in range(100)], [-i/10 for i in range(100)]],\n",
    "    [[1], [2]],\n",
    "    [None, None],\n",
    "    # from UI\n",
    "    freq,\n",
    "    prediction_length\n",
    ")\n",
    "custom_ts = HF_Dataset(params)"
   ]
  },
  {
   "cell_type": "code",
   "execution_count": 4,
   "metadata": {},
   "outputs": [
    {
     "data": {
      "text/plain": [
       "DatasetDict({\n",
       "    train: Dataset({\n",
       "        features: ['start', 'target', 'feat_static_cat', 'feat_dynamic_real', 'item_id'],\n",
       "        num_rows: 2\n",
       "    })\n",
       "    validation: Dataset({\n",
       "        features: ['start', 'target', 'feat_static_cat', 'feat_dynamic_real', 'item_id'],\n",
       "        num_rows: 2\n",
       "    })\n",
       "    test: Dataset({\n",
       "        features: ['start', 'target', 'feat_static_cat', 'feat_dynamic_real', 'item_id'],\n",
       "        num_rows: 2\n",
       "    })\n",
       "})"
      ]
     },
     "execution_count": 4,
     "metadata": {},
     "output_type": "execute_result"
    }
   ],
   "source": [
    "custom_ts.getDatasetDict()"
   ]
  },
  {
   "cell_type": "code",
   "execution_count": 5,
   "metadata": {},
   "outputs": [],
   "source": [
    "train_dataset = custom_ts.getFormattedDatasetDict()[\"train\"]\n",
    "\n",
    "test_dataset = custom_ts.getFormattedDatasetDict()[\"test\"]"
   ]
  },
  {
   "cell_type": "code",
   "execution_count": 6,
   "metadata": {},
   "outputs": [
    {
     "data": {
      "text/plain": [
       "[Period('2023-04-12', 'D'), Period('2023-04-12', 'D')]"
      ]
     },
     "execution_count": 6,
     "metadata": {},
     "output_type": "execute_result"
    }
   ],
   "source": [
    "train_dataset[\"start\"]"
   ]
  },
  {
   "cell_type": "code",
   "execution_count": 7,
   "metadata": {},
   "outputs": [
    {
     "data": {
      "text/plain": [
       "{'input_size': 2,\n",
       " 'num_dynamic_real_features': 0,\n",
       " 'num_static_categorical_features': 1}"
      ]
     },
     "execution_count": 7,
     "metadata": {},
     "output_type": "execute_result"
    }
   ],
   "source": [
    "custom_ts.getFeaturesStats()"
   ]
  },
  {
   "attachments": {},
   "cell_type": "markdown",
   "metadata": {},
   "source": [
    "# Test Transformers"
   ]
  },
  {
   "cell_type": "code",
   "execution_count": 8,
   "metadata": {},
   "outputs": [],
   "source": [
    "transformer_params = TS_Transformer_Params(\n",
    "    prediction_length, freq, custom_ts.getFeaturesStats(),\n",
    "    [InformerConfig, InformerForPrediction],\n",
    "    4, [2], 4, 32, 0.3\n",
    ")"
   ]
  },
  {
   "cell_type": "code",
   "execution_count": 9,
   "metadata": {},
   "outputs": [],
   "source": [
    "transformer = TS_Transformer(transformer_params)\n",
    "\n",
    "transformer._model()"
   ]
  },
  {
   "cell_type": "code",
   "execution_count": 10,
   "metadata": {},
   "outputs": [],
   "source": [
    "config = transformer.config"
   ]
  },
  {
   "cell_type": "code",
   "execution_count": 11,
   "metadata": {},
   "outputs": [],
   "source": [
    "model = transformer.model"
   ]
  },
  {
   "cell_type": "code",
   "execution_count": 12,
   "metadata": {},
   "outputs": [],
   "source": [
    "train_dataloader, test_dataloader = transformer._transformation(train_dataset, test_dataset)"
   ]
  },
  {
   "cell_type": "code",
   "execution_count": 13,
   "metadata": {},
   "outputs": [
    {
     "data": {
      "text/plain": [
       "<gluonts.itertools.IterableSlice at 0x7f2fa4aa41f0>"
      ]
     },
     "execution_count": 13,
     "metadata": {},
     "output_type": "execute_result"
    }
   ],
   "source": [
    "train_dataloader"
   ]
  },
  {
   "cell_type": "code",
   "execution_count": 14,
   "metadata": {},
   "outputs": [
    {
     "ename": "GluonTSDataError",
     "evalue": "Input for field \"target\" does not have the requireddimension (field: target, ndim observed: 1, expected ndim: 2)",
     "output_type": "error",
     "traceback": [
      "\u001b[0;31m---------------------------------------------------------------------------\u001b[0m",
      "\u001b[0;31mGluonTSDataError\u001b[0m                          Traceback (most recent call last)",
      "Cell \u001b[0;32mIn[14], line 1\u001b[0m\n\u001b[0;32m----> 1\u001b[0m batch \u001b[39m=\u001b[39m \u001b[39mnext\u001b[39;49m(\u001b[39miter\u001b[39;49m(train_dataloader))\n\u001b[1;32m      2\u001b[0m \u001b[39mfor\u001b[39;00m k, v \u001b[39min\u001b[39;00m batch\u001b[39m.\u001b[39mitems():\n\u001b[1;32m      3\u001b[0m     \u001b[39mprint\u001b[39m(k, v\u001b[39m.\u001b[39mshape, v\u001b[39m.\u001b[39mtype())\n",
      "File \u001b[0;32m/opt/mamba/lib/python3.10/site-packages/gluonts/itertools.py:241\u001b[0m, in \u001b[0;36mIterableSlice.__iter__\u001b[0;34m(self)\u001b[0m\n\u001b[1;32m    240\u001b[0m \u001b[39mdef\u001b[39;00m \u001b[39m__iter__\u001b[39m(\u001b[39mself\u001b[39m):\n\u001b[0;32m--> 241\u001b[0m     \u001b[39myield from\u001b[39;00m itertools\u001b[39m.\u001b[39mislice(\u001b[39mself\u001b[39m\u001b[39m.\u001b[39miterable, \u001b[39mself\u001b[39m\u001b[39m.\u001b[39mlength)\n",
      "File \u001b[0;32m/opt/mamba/lib/python3.10/site-packages/gluonts/transform/_base.py:111\u001b[0m, in \u001b[0;36mTransformedDataset.__iter__\u001b[0;34m(self)\u001b[0m\n\u001b[1;32m    110\u001b[0m \u001b[39mdef\u001b[39;00m \u001b[39m__iter__\u001b[39m(\u001b[39mself\u001b[39m) \u001b[39m-\u001b[39m\u001b[39m>\u001b[39m Iterator[DataEntry]:\n\u001b[0;32m--> 111\u001b[0m     \u001b[39myield from\u001b[39;00m \u001b[39mself\u001b[39m\u001b[39m.\u001b[39mtransformation(\n\u001b[1;32m    112\u001b[0m         \u001b[39mself\u001b[39m\u001b[39m.\u001b[39mbase_dataset, is_train\u001b[39m=\u001b[39m\u001b[39mself\u001b[39m\u001b[39m.\u001b[39mis_train\n\u001b[1;32m    113\u001b[0m     )\n",
      "File \u001b[0;32m/opt/mamba/lib/python3.10/site-packages/gluonts/transform/_base.py:132\u001b[0m, in \u001b[0;36mMapTransformation.__call__\u001b[0;34m(self, data_it, is_train)\u001b[0m\n\u001b[1;32m    129\u001b[0m \u001b[39mdef\u001b[39;00m \u001b[39m__call__\u001b[39m(\n\u001b[1;32m    130\u001b[0m     \u001b[39mself\u001b[39m, data_it: Iterable[DataEntry], is_train: \u001b[39mbool\u001b[39m\n\u001b[1;32m    131\u001b[0m ) \u001b[39m-\u001b[39m\u001b[39m>\u001b[39m Iterator:\n\u001b[0;32m--> 132\u001b[0m     \u001b[39mfor\u001b[39;00m data_entry \u001b[39min\u001b[39;00m data_it:\n\u001b[1;32m    133\u001b[0m         \u001b[39mtry\u001b[39;00m:\n\u001b[1;32m    134\u001b[0m             \u001b[39myield\u001b[39;00m \u001b[39mself\u001b[39m\u001b[39m.\u001b[39mmap_transform(data_entry\u001b[39m.\u001b[39mcopy(), is_train)\n",
      "File \u001b[0;32m/opt/mamba/lib/python3.10/site-packages/gluonts/dataset/loader.py:55\u001b[0m, in \u001b[0;36mStack.__call__\u001b[0;34m(self, data, is_train)\u001b[0m\n\u001b[1;32m     54\u001b[0m \u001b[39mdef\u001b[39;00m \u001b[39m__call__\u001b[39m(\u001b[39mself\u001b[39m, data, is_train):\n\u001b[0;32m---> 55\u001b[0m     \u001b[39mfor\u001b[39;00m batch \u001b[39min\u001b[39;00m data:\n\u001b[1;32m     56\u001b[0m         \u001b[39myield\u001b[39;00m rows_to_columns(batch, np\u001b[39m.\u001b[39marray)\n",
      "File \u001b[0;32m/opt/mamba/lib/python3.10/site-packages/gluonts/dataset/loader.py:50\u001b[0m, in \u001b[0;36mBatch.__call__\u001b[0;34m(self, data, is_train)\u001b[0m\n\u001b[1;32m     49\u001b[0m \u001b[39mdef\u001b[39;00m \u001b[39m__call__\u001b[39m(\u001b[39mself\u001b[39m, data, is_train):\n\u001b[0;32m---> 50\u001b[0m     \u001b[39myield from\u001b[39;00m batcher(data, \u001b[39mself\u001b[39m\u001b[39m.\u001b[39mbatch_size)\n",
      "File \u001b[0;32m/opt/mamba/lib/python3.10/site-packages/gluonts/itertools.py:125\u001b[0m, in \u001b[0;36mbatcher.<locals>.get_batch\u001b[0;34m()\u001b[0m\n\u001b[1;32m    124\u001b[0m \u001b[39mdef\u001b[39;00m \u001b[39mget_batch\u001b[39m():\n\u001b[0;32m--> 125\u001b[0m     \u001b[39mreturn\u001b[39;00m \u001b[39mlist\u001b[39;49m(itertools\u001b[39m.\u001b[39;49mislice(it, batch_size))\n",
      "File \u001b[0;32m/opt/mamba/lib/python3.10/site-packages/gluonts/transform/_base.py:132\u001b[0m, in \u001b[0;36mMapTransformation.__call__\u001b[0;34m(self, data_it, is_train)\u001b[0m\n\u001b[1;32m    129\u001b[0m \u001b[39mdef\u001b[39;00m \u001b[39m__call__\u001b[39m(\n\u001b[1;32m    130\u001b[0m     \u001b[39mself\u001b[39m, data_it: Iterable[DataEntry], is_train: \u001b[39mbool\u001b[39m\n\u001b[1;32m    131\u001b[0m ) \u001b[39m-\u001b[39m\u001b[39m>\u001b[39m Iterator:\n\u001b[0;32m--> 132\u001b[0m     \u001b[39mfor\u001b[39;00m data_entry \u001b[39min\u001b[39;00m data_it:\n\u001b[1;32m    133\u001b[0m         \u001b[39mtry\u001b[39;00m:\n\u001b[1;32m    134\u001b[0m             \u001b[39myield\u001b[39;00m \u001b[39mself\u001b[39m\u001b[39m.\u001b[39mmap_transform(data_entry\u001b[39m.\u001b[39mcopy(), is_train)\n",
      "File \u001b[0;32m/opt/mamba/lib/python3.10/site-packages/gluonts/transform/_base.py:111\u001b[0m, in \u001b[0;36mTransformedDataset.__iter__\u001b[0;34m(self)\u001b[0m\n\u001b[1;32m    110\u001b[0m \u001b[39mdef\u001b[39;00m \u001b[39m__iter__\u001b[39m(\u001b[39mself\u001b[39m) \u001b[39m-\u001b[39m\u001b[39m>\u001b[39m Iterator[DataEntry]:\n\u001b[0;32m--> 111\u001b[0m     \u001b[39myield from\u001b[39;00m \u001b[39mself\u001b[39m\u001b[39m.\u001b[39mtransformation(\n\u001b[1;32m    112\u001b[0m         \u001b[39mself\u001b[39m\u001b[39m.\u001b[39mbase_dataset, is_train\u001b[39m=\u001b[39m\u001b[39mself\u001b[39m\u001b[39m.\u001b[39mis_train\n\u001b[1;32m    113\u001b[0m     )\n",
      "File \u001b[0;32m/opt/mamba/lib/python3.10/site-packages/gluonts/transform/_base.py:186\u001b[0m, in \u001b[0;36mFlatMapTransformation.__call__\u001b[0;34m(self, data_it, is_train)\u001b[0m\n\u001b[1;32m    182\u001b[0m \u001b[39mdef\u001b[39;00m \u001b[39m__call__\u001b[39m(\n\u001b[1;32m    183\u001b[0m     \u001b[39mself\u001b[39m, data_it: Iterable[DataEntry], is_train: \u001b[39mbool\u001b[39m\n\u001b[1;32m    184\u001b[0m ) \u001b[39m-\u001b[39m\u001b[39m>\u001b[39m Iterator:\n\u001b[1;32m    185\u001b[0m     num_idle_transforms \u001b[39m=\u001b[39m \u001b[39m0\u001b[39m\n\u001b[0;32m--> 186\u001b[0m     \u001b[39mfor\u001b[39;00m data_entry \u001b[39min\u001b[39;00m data_it:\n\u001b[1;32m    187\u001b[0m         num_idle_transforms \u001b[39m+\u001b[39m\u001b[39m=\u001b[39m \u001b[39m1\u001b[39m\n\u001b[1;32m    188\u001b[0m         \u001b[39mfor\u001b[39;00m result \u001b[39min\u001b[39;00m \u001b[39mself\u001b[39m\u001b[39m.\u001b[39mflatmap_transform(data_entry\u001b[39m.\u001b[39mcopy(), is_train):\n",
      "File \u001b[0;32m/opt/mamba/lib/python3.10/site-packages/gluonts/itertools.py:81\u001b[0m, in \u001b[0;36mCyclic.__iter__\u001b[0;34m(self)\u001b[0m\n\u001b[1;32m     79\u001b[0m at_least_one \u001b[39m=\u001b[39m \u001b[39mFalse\u001b[39;00m\n\u001b[1;32m     80\u001b[0m \u001b[39mwhile\u001b[39;00m \u001b[39mTrue\u001b[39;00m:\n\u001b[0;32m---> 81\u001b[0m     \u001b[39mfor\u001b[39;00m el \u001b[39min\u001b[39;00m \u001b[39mself\u001b[39m\u001b[39m.\u001b[39miterable:\n\u001b[1;32m     82\u001b[0m         at_least_one \u001b[39m=\u001b[39m \u001b[39mTrue\u001b[39;00m\n\u001b[1;32m     83\u001b[0m         \u001b[39myield\u001b[39;00m el\n",
      "File \u001b[0;32m/opt/mamba/lib/python3.10/site-packages/gluonts/itertools.py:150\u001b[0m, in \u001b[0;36mCached.__iter__\u001b[0;34m(self)\u001b[0m\n\u001b[1;32m    148\u001b[0m \u001b[39mdef\u001b[39;00m \u001b[39m__iter__\u001b[39m(\u001b[39mself\u001b[39m):\n\u001b[1;32m    149\u001b[0m     \u001b[39mif\u001b[39;00m \u001b[39mnot\u001b[39;00m \u001b[39mself\u001b[39m\u001b[39m.\u001b[39mcache:\n\u001b[0;32m--> 150\u001b[0m         \u001b[39mfor\u001b[39;00m element \u001b[39min\u001b[39;00m \u001b[39mself\u001b[39m\u001b[39m.\u001b[39miterable:\n\u001b[1;32m    151\u001b[0m             \u001b[39myield\u001b[39;00m element\n\u001b[1;32m    152\u001b[0m             \u001b[39mself\u001b[39m\u001b[39m.\u001b[39mcache\u001b[39m.\u001b[39mappend(element)\n",
      "File \u001b[0;32m/opt/mamba/lib/python3.10/site-packages/gluonts/transform/_base.py:111\u001b[0m, in \u001b[0;36mTransformedDataset.__iter__\u001b[0;34m(self)\u001b[0m\n\u001b[1;32m    110\u001b[0m \u001b[39mdef\u001b[39;00m \u001b[39m__iter__\u001b[39m(\u001b[39mself\u001b[39m) \u001b[39m-\u001b[39m\u001b[39m>\u001b[39m Iterator[DataEntry]:\n\u001b[0;32m--> 111\u001b[0m     \u001b[39myield from\u001b[39;00m \u001b[39mself\u001b[39m\u001b[39m.\u001b[39mtransformation(\n\u001b[1;32m    112\u001b[0m         \u001b[39mself\u001b[39m\u001b[39m.\u001b[39mbase_dataset, is_train\u001b[39m=\u001b[39m\u001b[39mself\u001b[39m\u001b[39m.\u001b[39mis_train\n\u001b[1;32m    113\u001b[0m     )\n",
      "File \u001b[0;32m/opt/mamba/lib/python3.10/site-packages/gluonts/transform/_base.py:132\u001b[0m, in \u001b[0;36mMapTransformation.__call__\u001b[0;34m(self, data_it, is_train)\u001b[0m\n\u001b[1;32m    129\u001b[0m \u001b[39mdef\u001b[39;00m \u001b[39m__call__\u001b[39m(\n\u001b[1;32m    130\u001b[0m     \u001b[39mself\u001b[39m, data_it: Iterable[DataEntry], is_train: \u001b[39mbool\u001b[39m\n\u001b[1;32m    131\u001b[0m ) \u001b[39m-\u001b[39m\u001b[39m>\u001b[39m Iterator:\n\u001b[0;32m--> 132\u001b[0m     \u001b[39mfor\u001b[39;00m data_entry \u001b[39min\u001b[39;00m data_it:\n\u001b[1;32m    133\u001b[0m         \u001b[39mtry\u001b[39;00m:\n\u001b[1;32m    134\u001b[0m             \u001b[39myield\u001b[39;00m \u001b[39mself\u001b[39m\u001b[39m.\u001b[39mmap_transform(data_entry\u001b[39m.\u001b[39mcopy(), is_train)\n",
      "File \u001b[0;32m/opt/mamba/lib/python3.10/site-packages/gluonts/transform/_base.py:132\u001b[0m, in \u001b[0;36mMapTransformation.__call__\u001b[0;34m(self, data_it, is_train)\u001b[0m\n\u001b[1;32m    129\u001b[0m \u001b[39mdef\u001b[39;00m \u001b[39m__call__\u001b[39m(\n\u001b[1;32m    130\u001b[0m     \u001b[39mself\u001b[39m, data_it: Iterable[DataEntry], is_train: \u001b[39mbool\u001b[39m\n\u001b[1;32m    131\u001b[0m ) \u001b[39m-\u001b[39m\u001b[39m>\u001b[39m Iterator:\n\u001b[0;32m--> 132\u001b[0m     \u001b[39mfor\u001b[39;00m data_entry \u001b[39min\u001b[39;00m data_it:\n\u001b[1;32m    133\u001b[0m         \u001b[39mtry\u001b[39;00m:\n\u001b[1;32m    134\u001b[0m             \u001b[39myield\u001b[39;00m \u001b[39mself\u001b[39m\u001b[39m.\u001b[39mmap_transform(data_entry\u001b[39m.\u001b[39mcopy(), is_train)\n",
      "    \u001b[0;31m[... skipping similar frames: MapTransformation.__call__ at line 132 (2 times)]\u001b[0m\n",
      "File \u001b[0;32m/opt/mamba/lib/python3.10/site-packages/gluonts/transform/_base.py:132\u001b[0m, in \u001b[0;36mMapTransformation.__call__\u001b[0;34m(self, data_it, is_train)\u001b[0m\n\u001b[1;32m    129\u001b[0m \u001b[39mdef\u001b[39;00m \u001b[39m__call__\u001b[39m(\n\u001b[1;32m    130\u001b[0m     \u001b[39mself\u001b[39m, data_it: Iterable[DataEntry], is_train: \u001b[39mbool\u001b[39m\n\u001b[1;32m    131\u001b[0m ) \u001b[39m-\u001b[39m\u001b[39m>\u001b[39m Iterator:\n\u001b[0;32m--> 132\u001b[0m     \u001b[39mfor\u001b[39;00m data_entry \u001b[39min\u001b[39;00m data_it:\n\u001b[1;32m    133\u001b[0m         \u001b[39mtry\u001b[39;00m:\n\u001b[1;32m    134\u001b[0m             \u001b[39myield\u001b[39;00m \u001b[39mself\u001b[39m\u001b[39m.\u001b[39mmap_transform(data_entry\u001b[39m.\u001b[39mcopy(), is_train)\n",
      "File \u001b[0;32m/opt/mamba/lib/python3.10/site-packages/gluonts/transform/_base.py:136\u001b[0m, in \u001b[0;36mMapTransformation.__call__\u001b[0;34m(self, data_it, is_train)\u001b[0m\n\u001b[1;32m    134\u001b[0m     \u001b[39myield\u001b[39;00m \u001b[39mself\u001b[39m\u001b[39m.\u001b[39mmap_transform(data_entry\u001b[39m.\u001b[39mcopy(), is_train)\n\u001b[1;32m    135\u001b[0m \u001b[39mexcept\u001b[39;00m \u001b[39mException\u001b[39;00m \u001b[39mas\u001b[39;00m e:\n\u001b[0;32m--> 136\u001b[0m     \u001b[39mraise\u001b[39;00m e\n",
      "File \u001b[0;32m/opt/mamba/lib/python3.10/site-packages/gluonts/transform/_base.py:134\u001b[0m, in \u001b[0;36mMapTransformation.__call__\u001b[0;34m(self, data_it, is_train)\u001b[0m\n\u001b[1;32m    132\u001b[0m \u001b[39mfor\u001b[39;00m data_entry \u001b[39min\u001b[39;00m data_it:\n\u001b[1;32m    133\u001b[0m     \u001b[39mtry\u001b[39;00m:\n\u001b[0;32m--> 134\u001b[0m         \u001b[39myield\u001b[39;00m \u001b[39mself\u001b[39;49m\u001b[39m.\u001b[39;49mmap_transform(data_entry\u001b[39m.\u001b[39;49mcopy(), is_train)\n\u001b[1;32m    135\u001b[0m     \u001b[39mexcept\u001b[39;00m \u001b[39mException\u001b[39;00m \u001b[39mas\u001b[39;00m e:\n\u001b[1;32m    136\u001b[0m         \u001b[39mraise\u001b[39;00m e\n",
      "File \u001b[0;32m/opt/mamba/lib/python3.10/site-packages/gluonts/transform/_base.py:149\u001b[0m, in \u001b[0;36mSimpleTransformation.map_transform\u001b[0;34m(self, data, is_train)\u001b[0m\n\u001b[1;32m    148\u001b[0m \u001b[39mdef\u001b[39;00m \u001b[39mmap_transform\u001b[39m(\u001b[39mself\u001b[39m, data: DataEntry, is_train: \u001b[39mbool\u001b[39m) \u001b[39m-\u001b[39m\u001b[39m>\u001b[39m DataEntry:\n\u001b[0;32m--> 149\u001b[0m     \u001b[39mreturn\u001b[39;00m \u001b[39mself\u001b[39;49m\u001b[39m.\u001b[39;49mtransform(data)\n",
      "File \u001b[0;32m/opt/mamba/lib/python3.10/site-packages/gluonts/transform/convert.py:139\u001b[0m, in \u001b[0;36mAsNumpyArray.transform\u001b[0;34m(self, data)\u001b[0m\n\u001b[1;32m    136\u001b[0m \u001b[39mdef\u001b[39;00m \u001b[39mtransform\u001b[39m(\u001b[39mself\u001b[39m, data: DataEntry) \u001b[39m-\u001b[39m\u001b[39m>\u001b[39m DataEntry:\n\u001b[1;32m    137\u001b[0m     value \u001b[39m=\u001b[39m np\u001b[39m.\u001b[39masarray(data[\u001b[39mself\u001b[39m\u001b[39m.\u001b[39mfield], dtype\u001b[39m=\u001b[39m\u001b[39mself\u001b[39m\u001b[39m.\u001b[39mdtype)\n\u001b[0;32m--> 139\u001b[0m     assert_data_error(\n\u001b[1;32m    140\u001b[0m         value\u001b[39m.\u001b[39;49mndim \u001b[39m==\u001b[39;49m \u001b[39mself\u001b[39;49m\u001b[39m.\u001b[39;49mexpected_ndim,\n\u001b[1;32m    141\u001b[0m         \u001b[39m'\u001b[39;49m\u001b[39mInput for field \u001b[39;49m\u001b[39m\"\u001b[39;49m\u001b[39m{self.field}\u001b[39;49;00m\u001b[39m\"\u001b[39;49m\u001b[39m does not have the required\u001b[39;49m\u001b[39m'\u001b[39;49m\n\u001b[1;32m    142\u001b[0m         \u001b[39m\"\u001b[39;49m\u001b[39mdimension (field: \u001b[39;49m\u001b[39m{self.field}\u001b[39;49;00m\u001b[39m, ndim observed: \u001b[39;49m\u001b[39m{value.ndim}\u001b[39;49;00m\u001b[39m, \u001b[39;49m\u001b[39m\"\u001b[39;49m\n\u001b[1;32m    143\u001b[0m         \u001b[39m\"\u001b[39;49m\u001b[39mexpected ndim: \u001b[39;49m\u001b[39m{self.expected_ndim}\u001b[39;49;00m\u001b[39m)\u001b[39;49m\u001b[39m\"\u001b[39;49m,\n\u001b[1;32m    144\u001b[0m         value\u001b[39m=\u001b[39;49mvalue,\n\u001b[1;32m    145\u001b[0m         \u001b[39mself\u001b[39;49m\u001b[39m=\u001b[39;49m\u001b[39mself\u001b[39;49m,\n\u001b[1;32m    146\u001b[0m     )\n\u001b[1;32m    147\u001b[0m     data[\u001b[39mself\u001b[39m\u001b[39m.\u001b[39mfield] \u001b[39m=\u001b[39m value\n\u001b[1;32m    148\u001b[0m     \u001b[39mreturn\u001b[39;00m data\n",
      "File \u001b[0;32m/opt/mamba/lib/python3.10/site-packages/gluonts/exceptions.py:116\u001b[0m, in \u001b[0;36massert_data_error\u001b[0;34m(condition, message, *args, **kwargs)\u001b[0m\n\u001b[1;32m     98\u001b[0m \u001b[39mdef\u001b[39;00m \u001b[39massert_data_error\u001b[39m(condition: Any, message: \u001b[39mstr\u001b[39m, \u001b[39m*\u001b[39margs, \u001b[39m*\u001b[39m\u001b[39m*\u001b[39mkwargs) \u001b[39m-\u001b[39m\u001b[39m>\u001b[39m \u001b[39mNone\u001b[39;00m:\n\u001b[1;32m     99\u001b[0m \u001b[39m    \u001b[39m\u001b[39m\"\"\"\u001b[39;00m\n\u001b[1;32m    100\u001b[0m \u001b[39m    Delegates to :func:`assert_gluonts` with a fixed ``exception_class`` value\u001b[39;00m\n\u001b[1;32m    101\u001b[0m \u001b[39m    of ``GluonTSDataError``.\u001b[39;00m\n\u001b[0;32m   (...)\u001b[0m\n\u001b[1;32m    114\u001b[0m \u001b[39m        exception message.\u001b[39;00m\n\u001b[1;32m    115\u001b[0m \u001b[39m    \"\"\"\u001b[39;00m\n\u001b[0;32m--> 116\u001b[0m     assert_gluonts(GluonTSDataError, condition, message, \u001b[39m*\u001b[39;49margs, \u001b[39m*\u001b[39;49m\u001b[39m*\u001b[39;49mkwargs)\n",
      "File \u001b[0;32m/opt/mamba/lib/python3.10/site-packages/gluonts/exceptions.py:95\u001b[0m, in \u001b[0;36massert_gluonts\u001b[0;34m(exception_class, condition, message, *args, **kwargs)\u001b[0m\n\u001b[1;32m     74\u001b[0m \u001b[39m\u001b[39m\u001b[39m\"\"\"\u001b[39;00m\n\u001b[1;32m     75\u001b[0m \u001b[39mIf the given ``condition`` is ``False``, raises an exception of type\u001b[39;00m\n\u001b[1;32m     76\u001b[0m \u001b[39m``exception_class`` with a message formatted from the ``message`` pattern\u001b[39;00m\n\u001b[0;32m   (...)\u001b[0m\n\u001b[1;32m     92\u001b[0m \u001b[39m    exception message.\u001b[39;00m\n\u001b[1;32m     93\u001b[0m \u001b[39m\"\"\"\u001b[39;00m\n\u001b[1;32m     94\u001b[0m \u001b[39mif\u001b[39;00m \u001b[39mnot\u001b[39;00m condition:\n\u001b[0;32m---> 95\u001b[0m     \u001b[39mraise\u001b[39;00m exception_class(message\u001b[39m.\u001b[39mformat(\u001b[39m*\u001b[39margs, \u001b[39m*\u001b[39m\u001b[39m*\u001b[39mkwargs))\n",
      "\u001b[0;31mGluonTSDataError\u001b[0m: Input for field \"target\" does not have the requireddimension (field: target, ndim observed: 1, expected ndim: 2)"
     ]
    }
   ],
   "source": [
    "batch = next(iter(train_dataloader))\n",
    "for k, v in batch.items():\n",
    "    print(k, v.shape, v.type())"
   ]
  },
  {
   "cell_type": "code",
   "execution_count": null,
   "metadata": {},
   "outputs": [],
   "source": []
  }
 ],
 "metadata": {
  "kernelspec": {
   "display_name": "base",
   "language": "python",
   "name": "python3"
  },
  "language_info": {
   "codemirror_mode": {
    "name": "ipython",
    "version": 3
   },
   "file_extension": ".py",
   "mimetype": "text/x-python",
   "name": "python",
   "nbconvert_exporter": "python",
   "pygments_lexer": "ipython3",
   "version": "3.10.9"
  },
  "orig_nbformat": 4,
  "vscode": {
   "interpreter": {
    "hash": "3fa046f995eb80ac40c0869a1f9df46519f4ada8b8c395ef25dd1aa1a1a2fc63"
   }
  }
 },
 "nbformat": 4,
 "nbformat_minor": 2
}
