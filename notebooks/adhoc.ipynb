{
 "cells": [
  {
   "cell_type": "code",
   "execution_count": 1,
   "metadata": {},
   "outputs": [],
   "source": [
    "import os\n",
    "import numpy as np\n",
    "from datetime import datetime\n",
    "os.chdir(\"../\")\n",
    "from datasets import load_dataset, Dataset, DatasetDict\n",
    "from src.data import DataProcessing, HF_Dataset"
   ]
  },
  {
   "cell_type": "code",
   "execution_count": 2,
   "metadata": {},
   "outputs": [
    {
     "name": "stderr",
     "output_type": "stream",
     "text": [
      "Found cached dataset monash_tsf (/home/onyxia/.cache/huggingface/datasets/monash_tsf/traffic_hourly/1.0.0/82998723d55d6edbc664cfaebe371004d849846ee5f61b57f1f974000d44c050)\n"
     ]
    },
    {
     "data": {
      "application/vnd.jupyter.widget-view+json": {
       "model_id": "a21fd28a4a8a45d588611612c0ffdfdf",
       "version_major": 2,
       "version_minor": 0
      },
      "text/plain": [
       "  0%|          | 0/3 [00:00<?, ?it/s]"
      ]
     },
     "metadata": {},
     "output_type": "display_data"
    }
   ],
   "source": [
    "dataset = load_dataset(\"monash_tsf\", \"traffic_hourly\")\n",
    "freq = \"1H\""
   ]
  },
  {
   "cell_type": "code",
   "execution_count": 3,
   "metadata": {},
   "outputs": [],
   "source": [
    "data_pipeline = DataProcessing(dataset)"
   ]
  },
  {
   "cell_type": "code",
   "execution_count": 4,
   "metadata": {},
   "outputs": [],
   "source": [
    "# mtrain, mtest = data_pipeline.multi_variate_format(freq)"
   ]
  },
  {
   "cell_type": "code",
   "execution_count": 5,
   "metadata": {},
   "outputs": [
    {
     "ename": "TypeError",
     "evalue": "ufunc 'bitwise_and' not supported for the input types, and the inputs could not be safely coerced to any supported types according to the casting rule ''safe''",
     "output_type": "error",
     "traceback": [
      "\u001b[0;31m---------------------------------------------------------------------------\u001b[0m",
      "\u001b[0;31mTypeError\u001b[0m                                 Traceback (most recent call last)",
      "Cell \u001b[0;32mIn[5], line 7\u001b[0m\n\u001b[1;32m      1\u001b[0m ds \u001b[39m=\u001b[39m HF_Dataset(\n\u001b[1;32m      2\u001b[0m     \u001b[39m10\u001b[39;49m\u001b[39m*\u001b[39;49m[datetime(\u001b[39m2023\u001b[39;49m, \u001b[39m4\u001b[39;49m, \u001b[39m12\u001b[39;49m, \u001b[39m12\u001b[39;49m, \u001b[39m0\u001b[39;49m, \u001b[39m0\u001b[39;49m), datetime(\u001b[39m2023\u001b[39;49m, \u001b[39m4\u001b[39;49m, \u001b[39m12\u001b[39;49m, \u001b[39m12\u001b[39;49m, \u001b[39m0\u001b[39;49m, \u001b[39m0\u001b[39;49m), datetime(\u001b[39m2023\u001b[39;49m, \u001b[39m4\u001b[39;49m, \u001b[39m12\u001b[39;49m, \u001b[39m12\u001b[39;49m, \u001b[39m0\u001b[39;49m, \u001b[39m0\u001b[39;49m)], \n\u001b[1;32m      3\u001b[0m     \u001b[39m10\u001b[39;49m\u001b[39m*\u001b[39;49m[\u001b[39m1\u001b[39;49m, \u001b[39m2\u001b[39;49m, \u001b[39m3\u001b[39;49m],\n\u001b[1;32m      4\u001b[0m     np\u001b[39m.\u001b[39;49marray([\u001b[39m0.7\u001b[39;49m, \u001b[39m0.2\u001b[39;49m, \u001b[39m0.1\u001b[39;49m]),\n\u001b[1;32m      5\u001b[0m     \u001b[39m10\u001b[39;49m\u001b[39m*\u001b[39;49m[\u001b[39m0\u001b[39;49m, \u001b[39m0\u001b[39;49m, \u001b[39m0\u001b[39;49m],\n\u001b[1;32m      6\u001b[0m     \u001b[39m10\u001b[39;49m\u001b[39m*\u001b[39;49m[\u001b[39mNone\u001b[39;49;00m, \u001b[39mNone\u001b[39;49;00m, \u001b[39mNone\u001b[39;49;00m],\n\u001b[0;32m----> 7\u001b[0m     \u001b[39m10\u001b[39;49m\u001b[39m*\u001b[39;49m[\u001b[39m'\u001b[39;49m\u001b[39mT1\u001b[39;49m\u001b[39m'\u001b[39;49m, \u001b[39m'\u001b[39;49m\u001b[39mT1\u001b[39;49m\u001b[39m'\u001b[39;49m, \u001b[39m'\u001b[39;49m\u001b[39mT1\u001b[39;49m\u001b[39m'\u001b[39;49m])\u001b[39m.\u001b[39;49mgetDatasetDict()\n",
      "File \u001b[0;32m~/work/ts_forecasting/src/data/dataset.py:56\u001b[0m, in \u001b[0;36mHF_Dataset.getDatasetDict\u001b[0;34m(self)\u001b[0m\n\u001b[1;32m     55\u001b[0m \u001b[39mdef\u001b[39;00m \u001b[39mgetDatasetDict\u001b[39m(\u001b[39mself\u001b[39m) \u001b[39m-\u001b[39m\u001b[39m>\u001b[39m DatasetDict:\n\u001b[0;32m---> 56\u001b[0m     \u001b[39mreturn\u001b[39;00m DatasetDict({_split[\u001b[39m0\u001b[39m]: \u001b[39mself\u001b[39;49m\u001b[39m.\u001b[39;49mgetDataset(\u001b[39m0\u001b[39;49m)})\n",
      "File \u001b[0;32m~/work/ts_forecasting/src/data/dataset.py:41\u001b[0m, in \u001b[0;36mHF_Dataset.getDataset\u001b[0;34m(self, split_index)\u001b[0m\n\u001b[1;32m     40\u001b[0m \u001b[39mdef\u001b[39;00m \u001b[39mgetDataset\u001b[39m(\u001b[39mself\u001b[39m, split_index: \u001b[39mint\u001b[39m) \u001b[39m-\u001b[39m\u001b[39m>\u001b[39m Dataset:\n\u001b[0;32m---> 41\u001b[0m     split_limit \u001b[39m=\u001b[39m get_split_limit(\n\u001b[1;32m     42\u001b[0m                     \u001b[39mself\u001b[39;49m\u001b[39m.\u001b[39;49mtarget,\n\u001b[1;32m     43\u001b[0m                     \u001b[39mself\u001b[39;49m\u001b[39m.\u001b[39;49msplit_frac\n\u001b[1;32m     44\u001b[0m                 )\n\u001b[1;32m     45\u001b[0m     \u001b[39mreturn\u001b[39;00m Dataset\u001b[39m.\u001b[39mfrom_dict(\n\u001b[1;32m     46\u001b[0m             {\n\u001b[1;32m     47\u001b[0m                 \u001b[39m'\u001b[39m\u001b[39mstart\u001b[39m\u001b[39m'\u001b[39m: \u001b[39mself\u001b[39m\u001b[39m.\u001b[39mstart,\n\u001b[0;32m   (...)\u001b[0m\n\u001b[1;32m     52\u001b[0m             }\n\u001b[1;32m     53\u001b[0m         )\n",
      "File \u001b[0;32m~/work/ts_forecasting/src/utils/_data.py:27\u001b[0m, in \u001b[0;36mget_split_limit\u001b[0;34m(raw_serie, split_frac)\u001b[0m\n\u001b[1;32m     23\u001b[0m \u001b[39mdef\u001b[39;00m \u001b[39mget_split_limit\u001b[39m(\n\u001b[1;32m     24\u001b[0m         raw_serie: List[\u001b[39mfloat\u001b[39m],\n\u001b[1;32m     25\u001b[0m         split_frac: ndarray):\n\u001b[1;32m     26\u001b[0m     \u001b[39massert\u001b[39;00m (\n\u001b[0;32m---> 27\u001b[0m         \u001b[39mlen\u001b[39m(split_frac) \u001b[39m==\u001b[39m \u001b[39m3\u001b[39;49m \u001b[39m&\u001b[39;49m\n\u001b[1;32m     28\u001b[0m         split_frac\u001b[39m.\u001b[39;49msum() \u001b[39m==\u001b[39m \u001b[39m1.0\u001b[39m \u001b[39m&\u001b[39m\n\u001b[1;32m     29\u001b[0m         split_frac[\u001b[39m0\u001b[39m] \u001b[39m>\u001b[39m split_frac[\u001b[39m1\u001b[39m] \u001b[39m&\u001b[39m\n\u001b[1;32m     30\u001b[0m         split_frac[\u001b[39m1\u001b[39m] \u001b[39m>\u001b[39m split_frac[\u001b[39m2\u001b[39m]\n\u001b[1;32m     31\u001b[0m     )\n\u001b[1;32m     32\u001b[0m     _split_frac \u001b[39m=\u001b[39m array([\n\u001b[1;32m     33\u001b[0m                     split_frac[\u001b[39m0\u001b[39m],\n\u001b[1;32m     34\u001b[0m                     split_frac[\u001b[39m0\u001b[39m]\u001b[39m+\u001b[39msplit_frac[\u001b[39m1\u001b[39m],\n\u001b[1;32m     35\u001b[0m                     \u001b[39m1\u001b[39m\n\u001b[1;32m     36\u001b[0m                 ])\n\u001b[1;32m     37\u001b[0m     \u001b[39mreturn\u001b[39;00m (\u001b[39mlen\u001b[39m(raw_serie)\u001b[39m*\u001b[39m_split_frac)\u001b[39m.\u001b[39mastype(\u001b[39mint\u001b[39m)\n",
      "\u001b[0;31mTypeError\u001b[0m: ufunc 'bitwise_and' not supported for the input types, and the inputs could not be safely coerced to any supported types according to the casting rule ''safe''"
     ]
    }
   ],
   "source": [
    "ds = HF_Dataset(\n",
    "    10*[datetime(2023, 4, 12, 12, 0, 0), datetime(2023, 4, 12, 12, 0, 0), datetime(2023, 4, 12, 12, 0, 0)], \n",
    "    10*[1, 2, 3],\n",
    "    np.array([0.7, 0.2, 0.1]),\n",
    "    10*[0, 0, 0],\n",
    "    10*[None, None, None],\n",
    "    10*['T1', 'T1', 'T1']).getDatasetDict()"
   ]
  },
  {
   "cell_type": "code",
   "execution_count": null,
   "metadata": {},
   "outputs": [],
   "source": [
    "ds"
   ]
  },
  {
   "cell_type": "code",
   "execution_count": null,
   "metadata": {},
   "outputs": [],
   "source": [
    "len(dataset[\"train\"][0][\"target\"])"
   ]
  },
  {
   "cell_type": "code",
   "execution_count": null,
   "metadata": {},
   "outputs": [],
   "source": [
    "len(dataset[\"validation\"][0][\"target\"])"
   ]
  },
  {
   "cell_type": "code",
   "execution_count": null,
   "metadata": {},
   "outputs": [],
   "source": [
    "np.array([0.7, 0.2, 0.1])"
   ]
  },
  {
   "cell_type": "code",
   "execution_count": null,
   "metadata": {},
   "outputs": [],
   "source": []
  }
 ],
 "metadata": {
  "kernelspec": {
   "display_name": "base",
   "language": "python",
   "name": "python3"
  },
  "language_info": {
   "codemirror_mode": {
    "name": "ipython",
    "version": 3
   },
   "file_extension": ".py",
   "mimetype": "text/x-python",
   "name": "python",
   "nbconvert_exporter": "python",
   "pygments_lexer": "ipython3",
   "version": "3.10.9"
  },
  "orig_nbformat": 4,
  "vscode": {
   "interpreter": {
    "hash": "3fa046f995eb80ac40c0869a1f9df46519f4ada8b8c395ef25dd1aa1a1a2fc63"
   }
  }
 },
 "nbformat": 4,
 "nbformat_minor": 2
}
