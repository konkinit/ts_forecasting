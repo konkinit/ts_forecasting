{
 "cells": [
  {
   "cell_type": "code",
   "execution_count": null,
   "metadata": {},
   "outputs": [],
   "source": [
    "import os\n",
    "import sys\n",
    "import pandas as pd\n",
    "import numpy as np\n",
    "import plotly.express as px\n",
    "import datetime as dt\n",
    "import matplotlib.pyplot as plt\n",
    "from dataclasses import dataclass\n",
    "\n",
    "from gluonts.dataset.pandas import PandasDataset\n",
    "from gluonts.dataset.split import split\n",
    "from gluonts.torch import DeepAREstimator\n",
    "\n",
    "os.chdir(\"../\")"
   ]
  },
  {
   "cell_type": "code",
   "execution_count": null,
   "metadata": {},
   "outputs": [],
   "source": [
    "FILE_PATH = \"./data/adh.csv\"\n",
    "\n",
    "@dataclass\n",
    "class Features:\n",
    "    DATE: str = \"date\"\n",
    "    TARGET: str = \"#adh\"\n",
    "    TARGET_PRED: str = \"#adh_pred\"\n",
    "    YEAR: str = \"annee\"\n",
    "    FREQ: str = \"D\"\n",
    "    OFFSET: int = 360\n",
    "    PRED_LENGTH: int = 180\n",
    "    N_EPOCHS: int = 30\n",
    "    WINDOWS: int = 2"
   ]
  },
  {
   "attachments": {},
   "cell_type": "markdown",
   "metadata": {},
   "source": [
    "# Data Viz"
   ]
  },
  {
   "cell_type": "code",
   "execution_count": null,
   "metadata": {},
   "outputs": [],
   "source": [
    "df_adh = pd.read_csv(\n",
    "    FILE_PATH, sep=\"|\"\n",
    ")\n",
    "\n",
    "df_adh[Features.DATE] = df_adh[Features.DATE].apply(\n",
    "    lambda x: dt.datetime.strptime(x, \"%Y-%m-%d\")\n",
    ")\n",
    "\n",
    "_df_adh = df_adh.copy()\n",
    "\n",
    "_df_adh[Features.YEAR] = _df_adh[Features.DATE].apply(lambda x: x.year)"
   ]
  },
  {
   "cell_type": "code",
   "execution_count": null,
   "metadata": {},
   "outputs": [],
   "source": [
    "df_adh.head()"
   ]
  },
  {
   "cell_type": "code",
   "execution_count": null,
   "metadata": {},
   "outputs": [],
   "source": [
    "# serie temporelle des adhesions\n",
    "fig = px.line(\n",
    "    _df_adh,\n",
    "    x=Features.DATE, y=Features.TARGET, color=Features.YEAR,\n",
    "    width=1000, height=700\n",
    ")\n",
    "fig.update_xaxes(rangeslider_visible=True)\n",
    "fig.show()"
   ]
  },
  {
   "attachments": {},
   "cell_type": "markdown",
   "metadata": {},
   "source": [
    "# Modeling with GluonTS"
   ]
  },
  {
   "cell_type": "code",
   "execution_count": null,
   "metadata": {},
   "outputs": [],
   "source": [
    "# Load data from a CSV file into a PandasDataset\n",
    "TEST_DATA_START = (\n",
    "    df_adh.iloc[df_adh.shape[0]-1, 0] - dt.timedelta(Features.PRED_LENGTH)\n",
    ").strftime(\"%Y-%m-%d\")\n",
    "TEST_DATA_END = (\n",
    "    df_adh.iloc[df_adh.shape[0]-1, 0]\n",
    ").strftime(\"%Y-%m-%d\")\n",
    "df_futur = pd.DataFrame(\n",
    "    {\n",
    "        Features.DATE: [df_adh.iloc[df_adh.shape[0]-1, 0] + dt.timedelta(x) for x in range(1, 1+Features.PRED_LENGTH,)]\n",
    "    }\n",
    ")\n",
    "df_adh = pd.concat([df_adh, df_futur]).reset_index(drop=True)\n",
    "df = df_adh.set_index(Features.DATE)\n",
    "dataset = PandasDataset(df, target=Features.TARGET)\n",
    "dataset"
   ]
  },
  {
   "cell_type": "code",
   "execution_count": null,
   "metadata": {},
   "outputs": [],
   "source": [
    "# Split the data for training and testing\n",
    "training_data, test_gen = split(dataset, offset=-Features.OFFSET)\n",
    "test_data = test_gen.generate_instances(prediction_length=Features.PRED_LENGTH, windows=Features.WINDOWS)"
   ]
  },
  {
   "cell_type": "code",
   "execution_count": null,
   "metadata": {},
   "outputs": [],
   "source": [
    "# Train the model and make predictions\n",
    "model = DeepAREstimator(\n",
    "    prediction_length=Features.PRED_LENGTH,\n",
    "    freq=Features.FREQ,\n",
    "    trainer_kwargs={\"max_epochs\": Features.N_EPOCHS}\n",
    ").train(training_data)"
   ]
  },
  {
   "cell_type": "code",
   "execution_count": null,
   "metadata": {},
   "outputs": [],
   "source": [
    "# forecasting using trained model\n",
    "forecasts = list(model.predict(test_data.input))"
   ]
  },
  {
   "cell_type": "code",
   "execution_count": null,
   "metadata": {},
   "outputs": [],
   "source": [
    "# Plot predictions\n",
    "plt.figure(figsize=(10, 7))\n",
    "plt.plot(df[TEST_DATA_START:], color=\"black\")\n",
    "for forecast in forecasts:\n",
    "  forecast.plot()\n",
    "plt.legend([\"True values\"], loc=\"upper left\", fontsize=\"xx-large\")\n",
    "plt.show()"
   ]
  },
  {
   "cell_type": "code",
   "execution_count": null,
   "metadata": {},
   "outputs": [],
   "source": [
    "forecasts[0].samples"
   ]
  },
  {
   "cell_type": "code",
   "execution_count": null,
   "metadata": {},
   "outputs": [],
   "source": [
    "forecast_ = np.concatenate([forecast.samples.mean(axis=0) for forecast in forecasts])\n",
    "\n",
    "df_adh.loc[df_adh[Features.DATE] > TEST_DATA_START, Features.TARGET_PRED] = forecast_"
   ]
  },
  {
   "cell_type": "code",
   "execution_count": null,
   "metadata": {},
   "outputs": [],
   "source": [
    "df_adh_pred = df_adh.query(f\"{Features.DATE} > @TEST_DATA_START\").reset_index(drop=True)"
   ]
  },
  {
   "cell_type": "code",
   "execution_count": null,
   "metadata": {},
   "outputs": [],
   "source": [
    "df_adh_pred.query(f\"{Features.DATE} <= @TEST_DATA_END\")"
   ]
  },
  {
   "cell_type": "code",
   "execution_count": null,
   "metadata": {},
   "outputs": [],
   "source": [
    "df_adh_pred.query(f\"{Features.DATE} <= @TEST_DATA_END\").iloc[:, 1:].sum()"
   ]
  },
  {
   "cell_type": "code",
   "execution_count": null,
   "metadata": {},
   "outputs": [],
   "source": [
    "100*(df_adh_pred.query(f\"{Features.DATE} <= @TEST_DATA_END\").iloc[:, 1].sum() - \\\n",
    "    df_adh_pred.query(f\"{Features.DATE} <= @TEST_DATA_END\").iloc[:, 2].sum()) / df_adh_pred.query(f\"{Features.DATE} <= @TEST_DATA_END\").iloc[:, 2].sum()"
   ]
  },
  {
   "cell_type": "code",
   "execution_count": null,
   "metadata": {},
   "outputs": [],
   "source": [
    "df_adh_pred.query(f\"{Features.DATE} > @TEST_DATA_END\")"
   ]
  },
  {
   "cell_type": "code",
   "execution_count": null,
   "metadata": {},
   "outputs": [],
   "source": [
    "df_adh_pred.query(f\"{Features.DATE} > @TEST_DATA_END\").iloc[:, 2:].sum()"
   ]
  },
  {
   "cell_type": "code",
   "execution_count": null,
   "metadata": {},
   "outputs": [],
   "source": []
  }
 ],
 "metadata": {
  "kernelspec": {
   "display_name": "base",
   "language": "python",
   "name": "python3"
  },
  "language_info": {
   "codemirror_mode": {
    "name": "ipython",
    "version": 3
   },
   "file_extension": ".py",
   "mimetype": "text/x-python",
   "name": "python",
   "nbconvert_exporter": "python",
   "pygments_lexer": "ipython3",
   "version": "3.10.9"
  },
  "orig_nbformat": 4
 },
 "nbformat": 4,
 "nbformat_minor": 2
}
